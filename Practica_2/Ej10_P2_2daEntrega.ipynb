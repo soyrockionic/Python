{
  "metadata": {
    "language_info": {
      "codemirror_mode": {
        "name": "python",
        "version": 3
      },
      "file_extension": ".py",
      "mimetype": "text/x-python",
      "name": "python",
      "nbconvert_exporter": "python",
      "pygments_lexer": "ipython3",
      "version": "3.8"
    },
    "kernelspec": {
      "name": "python",
      "display_name": "Pyolite",
      "language": "python"
    }
  },
  "nbformat_minor": 4,
  "nbformat": 4,
  "cells": [
    {
      "cell_type": "markdown",
      "source": "Abrimos los archivos y los asignmos a sus variables",
      "metadata": {}
    },
    {
      "cell_type": "code",
      "source": "arch_nombres = open(\"nombres.txt\", \"r\", encoding=\"utf-8\")\narch_eval1 = open(\"eval1.txt\", \"r\", encoding=\"utf-8\")\narch_eval2 = open(\"eval2.txt\", \"r\", encoding=\"utf-8\")",
      "metadata": {},
      "execution_count": null,
      "outputs": []
    },
    {
      "cell_type": "markdown",
      "source": "Leemos los archivos y asignamos a sus variables lista",
      "metadata": {}
    },
    {
      "cell_type": "code",
      "source": "nombres = arch_nombres.read().split()\neval1 = arch_eval1.read().split(\",\")\neval2 = arch_eval2.read().split(\",\")",
      "metadata": {},
      "execution_count": null,
      "outputs": []
    },
    {
      "cell_type": "markdown",
      "source": "Cierro los archivos",
      "metadata": {}
    },
    {
      "cell_type": "code",
      "source": "arch_nombres.close()\narch_eval1.close()\narch_eval2.close()",
      "metadata": {},
      "execution_count": null,
      "outputs": []
    },
    {
      "cell_type": "markdown",
      "source": "Inicializo variables",
      "metadata": {}
    },
    {
      "cell_type": "code",
      "source": "alumnos = []\nsuma = 0",
      "metadata": {},
      "execution_count": null,
      "outputs": []
    },
    {
      "cell_type": "markdown",
      "source": "Itero sobre cada nombre y notas, utilizo la funcion zip que nos permite empaquetar en tuplas los elementos para iterar. Los agrego a la lista asi no son reemplazadas. Como estoy iterando tambien voy sumando a la variable suma, las notas de cada alumno.",
      "metadata": {}
    },
    {
      "cell_type": "code",
      "source": "for nombre, val1, val2 in zip(nombres, eval1, eval2) :\n    alumnos.append((nombre, int(val1) + int(val2)))\n    suma += int(val1) + int(val2)",
      "metadata": {},
      "execution_count": null,
      "outputs": []
    },
    {
      "cell_type": "markdown",
      "source": "Obtengo el promedio y lo informo en pantalla",
      "metadata": {}
    },
    {
      "cell_type": "code",
      "source": "if suma > 0 :\n    print(f\"Promedio {suma / len(alumnos):.2f}\")",
      "metadata": {},
      "execution_count": null,
      "outputs": []
    },
    {
      "cell_type": "markdown",
      "source": "Informo los alumnos que obtuvieron menor nota que el promedio",
      "metadata": {}
    },
    {
      "cell_type": "code",
      "source": "for alum in alumnos :\n    if alum[1] < suma / len(alumnos) :\n        print(alum[0], alum[1])",
      "metadata": {},
      "execution_count": null,
      "outputs": []
    }
  ]
}